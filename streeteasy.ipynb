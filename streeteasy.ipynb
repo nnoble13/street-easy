{
 "cells": [
  {
   "cell_type": "code",
   "execution_count": 2,
   "metadata": {},
   "outputs": [],
   "source": [
    "import matplotlib.pyplot as plt\n",
    "import numpy as np\n",
    "import pandas as pd\n",
    "\n",
    "from mpl_toolkits.mplot3d import Axes3D\n",
    "\n",
    "from sklearn.linear_model import LinearRegression\n",
    "from sklearn.model_selection import train_test_split\n"
   ]
  },
  {
   "cell_type": "code",
   "execution_count": 14,
   "metadata": {},
   "outputs": [],
   "source": [
    "#URLS\n",
    "streeteasy_raw = \"https://raw.githubusercontent.com/Codecademy/datasets/master/streeteasy/streeteasy.csv\"\n",
    "brooklyn_raw = \"https://raw.githubusercontent.com/Codecademy/datasets/master/streeteasy/brooklyn.csv\"\n",
    "queens_raw = \"https://raw.githubusercontent.com/Codecademy/datasets/master/streeteasy/queens.csv\"\n",
    "manhattan_raw = \"https://raw.githubusercontent.com/Codecademy/datasets/master/streeteasy/manhattan.csv\"\n"
   ]
  },
  {
   "cell_type": "code",
   "execution_count": 22,
   "metadata": {},
   "outputs": [],
   "source": [
    "streeteasy_df = pd.read_csv(streeteasy_raw)"
   ]
  },
  {
   "cell_type": "code",
   "execution_count": 23,
   "metadata": {},
   "outputs": [],
   "source": [
    "x = streeteasy_df.drop(\"rent\", axis=1)\n",
    "y=streeteasy_df[\"rent\"]\n",
    "\n",
    "x_train, x_test, y_train, y_test = train_test_split(x, y, train_size=0.8, test_size=0.2, random_state = 6)"
   ]
  },
  {
   "cell_type": "code",
   "execution_count": null,
   "metadata": {},
   "outputs": [],
   "source": []
  }
 ],
 "metadata": {
  "kernelspec": {
   "display_name": "portfolio_projects",
   "language": "python",
   "name": "python3"
  },
  "language_info": {
   "codemirror_mode": {
    "name": "ipython",
    "version": 3
   },
   "file_extension": ".py",
   "mimetype": "text/x-python",
   "name": "python",
   "nbconvert_exporter": "python",
   "pygments_lexer": "ipython3",
   "version": "3.12.0"
  }
 },
 "nbformat": 4,
 "nbformat_minor": 2
}
